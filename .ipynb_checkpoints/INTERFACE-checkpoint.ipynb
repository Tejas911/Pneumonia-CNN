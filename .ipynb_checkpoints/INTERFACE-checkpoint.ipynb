{
 "cells": [
  {
   "cell_type": "code",
   "execution_count": 2,
   "metadata": {
    "colab": {
     "base_uri": "https://localhost:8080/"
    },
    "id": "I4Ck4qPsudlw",
    "outputId": "5b690bc3-074d-4ed3-abe9-109107a3e835"
   },
   "outputs": [
    {
     "name": "stdout",
     "output_type": "stream",
     "text": [
      "Requirement already satisfied: gradio in c:\\users\\tejas\\appdata\\local\\programs\\python\\python311\\lib\\site-packages (4.9.1)\n",
      "Requirement already satisfied: aiofiles<24.0,>=22.0 in c:\\users\\tejas\\appdata\\local\\programs\\python\\python311\\lib\\site-packages (from gradio) (23.2.1)\n",
      "Requirement already satisfied: altair<6.0,>=4.2.0 in c:\\users\\tejas\\appdata\\local\\programs\\python\\python311\\lib\\site-packages (from gradio) (5.0.1)\n",
      "Requirement already satisfied: fastapi in c:\\users\\tejas\\appdata\\local\\programs\\python\\python311\\lib\\site-packages (from gradio) (0.104.1)\n",
      "Requirement already satisfied: ffmpy in c:\\users\\tejas\\appdata\\local\\programs\\python\\python311\\lib\\site-packages (from gradio) (0.3.1)\n",
      "Requirement already satisfied: gradio-client==0.7.3 in c:\\users\\tejas\\appdata\\local\\programs\\python\\python311\\lib\\site-packages (from gradio) (0.7.3)\n",
      "Requirement already satisfied: httpx in c:\\users\\tejas\\appdata\\local\\programs\\python\\python311\\lib\\site-packages (from gradio) (0.25.1)\n",
      "Requirement already satisfied: huggingface-hub>=0.19.3 in c:\\users\\tejas\\appdata\\local\\programs\\python\\python311\\lib\\site-packages (from gradio) (0.19.4)\n",
      "Requirement already satisfied: importlib-resources<7.0,>=1.3 in c:\\users\\tejas\\appdata\\local\\programs\\python\\python311\\lib\\site-packages (from gradio) (6.1.1)\n",
      "Requirement already satisfied: jinja2<4.0 in c:\\users\\tejas\\appdata\\local\\programs\\python\\python311\\lib\\site-packages (from gradio) (3.1.2)\n",
      "Requirement already satisfied: markupsafe~=2.0 in c:\\users\\tejas\\appdata\\local\\programs\\python\\python311\\lib\\site-packages (from gradio) (2.1.3)\n",
      "Requirement already satisfied: matplotlib~=3.0 in c:\\users\\tejas\\appdata\\local\\programs\\python\\python311\\lib\\site-packages (from gradio) (3.7.2)\n",
      "Requirement already satisfied: numpy~=1.0 in c:\\users\\tejas\\appdata\\local\\programs\\python\\python311\\lib\\site-packages (from gradio) (1.26.0)\n",
      "Requirement already satisfied: orjson~=3.0 in c:\\users\\tejas\\appdata\\local\\programs\\python\\python311\\lib\\site-packages (from gradio) (3.9.10)\n",
      "Requirement already satisfied: packaging in c:\\users\\tejas\\appdata\\local\\programs\\python\\python311\\lib\\site-packages (from gradio) (23.1)\n",
      "Requirement already satisfied: pandas<3.0,>=1.0 in c:\\users\\tejas\\appdata\\local\\programs\\python\\python311\\lib\\site-packages (from gradio) (1.5.3)\n",
      "Requirement already satisfied: pillow<11.0,>=8.0 in c:\\users\\tejas\\appdata\\local\\programs\\python\\python311\\lib\\site-packages (from gradio) (9.5.0)\n",
      "Requirement already satisfied: pydantic>=2.0 in c:\\users\\tejas\\appdata\\local\\programs\\python\\python311\\lib\\site-packages (from gradio) (2.0.2)\n",
      "Requirement already satisfied: pydub in c:\\users\\tejas\\appdata\\local\\programs\\python\\python311\\lib\\site-packages (from gradio) (0.25.1)\n",
      "Requirement already satisfied: python-multipart in c:\\users\\tejas\\appdata\\local\\programs\\python\\python311\\lib\\site-packages (from gradio) (0.0.6)\n",
      "Requirement already satisfied: pyyaml<7.0,>=5.0 in c:\\users\\tejas\\appdata\\local\\programs\\python\\python311\\lib\\site-packages (from gradio) (6.0.1)\n",
      "Requirement already satisfied: semantic-version~=2.0 in c:\\users\\tejas\\appdata\\local\\programs\\python\\python311\\lib\\site-packages (from gradio) (2.10.0)\n",
      "Requirement already satisfied: tomlkit==0.12.0 in c:\\users\\tejas\\appdata\\local\\programs\\python\\python311\\lib\\site-packages (from gradio) (0.12.0)\n",
      "Requirement already satisfied: typer<1.0,>=0.9 in c:\\users\\tejas\\appdata\\local\\programs\\python\\python311\\lib\\site-packages (from typer[all]<1.0,>=0.9->gradio) (0.9.0)\n",
      "Requirement already satisfied: typing-extensions~=4.0 in c:\\users\\tejas\\appdata\\local\\programs\\python\\python311\\lib\\site-packages (from gradio) (4.8.0)\n",
      "Requirement already satisfied: uvicorn>=0.14.0 in c:\\users\\tejas\\appdata\\local\\programs\\python\\python311\\lib\\site-packages (from gradio) (0.24.0.post1)\n",
      "Requirement already satisfied: fsspec in c:\\users\\tejas\\appdata\\local\\programs\\python\\python311\\lib\\site-packages (from gradio-client==0.7.3->gradio) (2023.6.0)\n",
      "Requirement already satisfied: websockets<12.0,>=10.0 in c:\\users\\tejas\\appdata\\local\\programs\\python\\python311\\lib\\site-packages (from gradio-client==0.7.3->gradio) (11.0.3)\n",
      "Requirement already satisfied: jsonschema>=3.0 in c:\\users\\tejas\\appdata\\local\\programs\\python\\python311\\lib\\site-packages (from altair<6.0,>=4.2.0->gradio) (4.19.0)\n",
      "Requirement already satisfied: toolz in c:\\users\\tejas\\appdata\\local\\programs\\python\\python311\\lib\\site-packages (from altair<6.0,>=4.2.0->gradio) (0.12.0)\n",
      "Requirement already satisfied: filelock in c:\\users\\tejas\\appdata\\local\\programs\\python\\python311\\lib\\site-packages (from huggingface-hub>=0.19.3->gradio) (3.12.2)\n",
      "Requirement already satisfied: requests in c:\\users\\tejas\\appdata\\local\\programs\\python\\python311\\lib\\site-packages (from huggingface-hub>=0.19.3->gradio) (2.30.0)\n",
      "Requirement already satisfied: tqdm>=4.42.1 in c:\\users\\tejas\\appdata\\local\\programs\\python\\python311\\lib\\site-packages (from huggingface-hub>=0.19.3->gradio) (4.65.0)\n",
      "Requirement already satisfied: contourpy>=1.0.1 in c:\\users\\tejas\\appdata\\local\\programs\\python\\python311\\lib\\site-packages (from matplotlib~=3.0->gradio) (1.1.0)\n",
      "Requirement already satisfied: cycler>=0.10 in c:\\users\\tejas\\appdata\\local\\programs\\python\\python311\\lib\\site-packages (from matplotlib~=3.0->gradio) (0.11.0)\n",
      "Requirement already satisfied: fonttools>=4.22.0 in c:\\users\\tejas\\appdata\\local\\programs\\python\\python311\\lib\\site-packages (from matplotlib~=3.0->gradio) (4.41.0)\n",
      "Requirement already satisfied: kiwisolver>=1.0.1 in c:\\users\\tejas\\appdata\\local\\programs\\python\\python311\\lib\\site-packages (from matplotlib~=3.0->gradio) (1.4.4)\n",
      "Requirement already satisfied: pyparsing<3.1,>=2.3.1 in c:\\users\\tejas\\appdata\\local\\programs\\python\\python311\\lib\\site-packages (from matplotlib~=3.0->gradio) (3.0.9)\n",
      "Requirement already satisfied: python-dateutil>=2.7 in c:\\users\\tejas\\appdata\\local\\programs\\python\\python311\\lib\\site-packages (from matplotlib~=3.0->gradio) (2.8.2)\n",
      "Requirement already satisfied: pytz>=2020.1 in c:\\users\\tejas\\appdata\\local\\programs\\python\\python311\\lib\\site-packages (from pandas<3.0,>=1.0->gradio) (2022.7.1)\n",
      "Requirement already satisfied: annotated-types>=0.4.0 in c:\\users\\tejas\\appdata\\local\\programs\\python\\python311\\lib\\site-packages (from pydantic>=2.0->gradio) (0.5.0)\n",
      "Requirement already satisfied: pydantic-core==2.1.2 in c:\\users\\tejas\\appdata\\local\\programs\\python\\python311\\lib\\site-packages (from pydantic>=2.0->gradio) (2.1.2)\n",
      "Requirement already satisfied: click<9.0.0,>=7.1.1 in c:\\users\\tejas\\appdata\\local\\programs\\python\\python311\\lib\\site-packages (from typer<1.0,>=0.9->typer[all]<1.0,>=0.9->gradio) (8.1.6)\n",
      "Requirement already satisfied: colorama<0.5.0,>=0.4.3 in c:\\users\\tejas\\appdata\\local\\programs\\python\\python311\\lib\\site-packages (from typer[all]<1.0,>=0.9->gradio) (0.4.6)\n",
      "Requirement already satisfied: shellingham<2.0.0,>=1.3.0 in c:\\users\\tejas\\appdata\\local\\programs\\python\\python311\\lib\\site-packages (from typer[all]<1.0,>=0.9->gradio) (1.5.4)\n",
      "Requirement already satisfied: rich<14.0.0,>=10.11.0 in c:\\users\\tejas\\appdata\\local\\programs\\python\\python311\\lib\\site-packages (from typer[all]<1.0,>=0.9->gradio) (13.5.2)\n",
      "Requirement already satisfied: h11>=0.8 in c:\\users\\tejas\\appdata\\local\\programs\\python\\python311\\lib\\site-packages (from uvicorn>=0.14.0->gradio) (0.14.0)\n",
      "Requirement already satisfied: anyio<4.0.0,>=3.7.1 in c:\\users\\tejas\\appdata\\local\\programs\\python\\python311\\lib\\site-packages (from fastapi->gradio) (3.7.1)\n",
      "Requirement already satisfied: starlette<0.28.0,>=0.27.0 in c:\\users\\tejas\\appdata\\local\\programs\\python\\python311\\lib\\site-packages (from fastapi->gradio) (0.27.0)\n",
      "Requirement already satisfied: certifi in c:\\users\\tejas\\appdata\\local\\programs\\python\\python311\\lib\\site-packages (from httpx->gradio) (2023.5.7)\n",
      "Requirement already satisfied: httpcore in c:\\users\\tejas\\appdata\\local\\programs\\python\\python311\\lib\\site-packages (from httpx->gradio) (1.0.2)\n",
      "Requirement already satisfied: idna in c:\\users\\tejas\\appdata\\local\\programs\\python\\python311\\lib\\site-packages (from httpx->gradio) (3.4)\n",
      "Requirement already satisfied: sniffio in c:\\users\\tejas\\appdata\\local\\programs\\python\\python311\\lib\\site-packages (from httpx->gradio) (1.3.0)\n",
      "Requirement already satisfied: attrs>=22.2.0 in c:\\users\\tejas\\appdata\\local\\programs\\python\\python311\\lib\\site-packages (from jsonschema>=3.0->altair<6.0,>=4.2.0->gradio) (23.1.0)\n",
      "Requirement already satisfied: jsonschema-specifications>=2023.03.6 in c:\\users\\tejas\\appdata\\local\\programs\\python\\python311\\lib\\site-packages (from jsonschema>=3.0->altair<6.0,>=4.2.0->gradio) (2023.7.1)\n",
      "Requirement already satisfied: referencing>=0.28.4 in c:\\users\\tejas\\appdata\\local\\programs\\python\\python311\\lib\\site-packages (from jsonschema>=3.0->altair<6.0,>=4.2.0->gradio) (0.30.2)\n",
      "Requirement already satisfied: rpds-py>=0.7.1 in c:\\users\\tejas\\appdata\\local\\programs\\python\\python311\\lib\\site-packages (from jsonschema>=3.0->altair<6.0,>=4.2.0->gradio) (0.9.2)\n",
      "Requirement already satisfied: six>=1.5 in c:\\users\\tejas\\appdata\\local\\programs\\python\\python311\\lib\\site-packages (from python-dateutil>=2.7->matplotlib~=3.0->gradio) (1.16.0)\n",
      "Requirement already satisfied: markdown-it-py>=2.2.0 in c:\\users\\tejas\\appdata\\local\\programs\\python\\python311\\lib\\site-packages (from rich<14.0.0,>=10.11.0->typer[all]<1.0,>=0.9->gradio) (3.0.0)\n",
      "Requirement already satisfied: pygments<3.0.0,>=2.13.0 in c:\\users\\tejas\\appdata\\local\\programs\\python\\python311\\lib\\site-packages (from rich<14.0.0,>=10.11.0->typer[all]<1.0,>=0.9->gradio) (2.15.1)\n",
      "Requirement already satisfied: charset-normalizer<4,>=2 in c:\\users\\tejas\\appdata\\local\\programs\\python\\python311\\lib\\site-packages (from requests->huggingface-hub>=0.19.3->gradio) (3.1.0)\n",
      "Requirement already satisfied: urllib3<3,>=1.21.1 in c:\\users\\tejas\\appdata\\local\\programs\\python\\python311\\lib\\site-packages (from requests->huggingface-hub>=0.19.3->gradio) (1.26.16)\n",
      "Requirement already satisfied: mdurl~=0.1 in c:\\users\\tejas\\appdata\\local\\programs\\python\\python311\\lib\\site-packages (from markdown-it-py>=2.2.0->rich<14.0.0,>=10.11.0->typer[all]<1.0,>=0.9->gradio) (0.1.2)\n"
     ]
    }
   ],
   "source": [
    "!pip install gradio\n"
   ]
  },
  {
   "cell_type": "code",
   "execution_count": 16,
   "metadata": {
    "colab": {
     "base_uri": "https://localhost:8080/",
     "height": 390
    },
    "id": "CCTw_Asauv_U",
    "outputId": "68b6aaae-206c-44fb-c9bf-7a2ebb629ed5"
   },
   "outputs": [
    {
     "ename": "TypeError",
     "evalue": "Image.__init__() got an unexpected keyword argument 'shape'",
     "output_type": "error",
     "traceback": [
      "\u001b[1;31m---------------------------------------------------------------------------\u001b[0m",
      "\u001b[1;31mTypeError\u001b[0m                                 Traceback (most recent call last)",
      "Cell \u001b[1;32mIn[16], line 48\u001b[0m\n\u001b[0;32m     41\u001b[0m     \u001b[38;5;28;01mreturn\u001b[39;00m predicted_class, confidence_score\n\u001b[0;32m     43\u001b[0m \u001b[38;5;66;03m# gr.Image(shape=(224, 224))\u001b[39;00m\n\u001b[0;32m     44\u001b[0m \u001b[38;5;66;03m# Create the Gradio interface\u001b[39;00m\n\u001b[0;32m     45\u001b[0m iface \u001b[38;5;241m=\u001b[39m gr\u001b[38;5;241m.\u001b[39mInterface(\n\u001b[0;32m     46\u001b[0m     title\u001b[38;5;241m=\u001b[39m\u001b[38;5;124m\"\u001b[39m\u001b[38;5;124mPneumoAI\u001b[39m\u001b[38;5;124m\"\u001b[39m,\n\u001b[0;32m     47\u001b[0m     fn\u001b[38;5;241m=\u001b[39mpredict_pneumonia,\n\u001b[1;32m---> 48\u001b[0m     inputs\u001b[38;5;241m=\u001b[39m\u001b[43mgr\u001b[49m\u001b[38;5;241;43m.\u001b[39;49m\u001b[43mImage\u001b[49m\u001b[43m(\u001b[49m\u001b[43mshape\u001b[49m\u001b[38;5;241;43m=\u001b[39;49m\u001b[43m(\u001b[49m\u001b[38;5;241;43m224\u001b[39;49m\u001b[43m,\u001b[49m\u001b[43m \u001b[49m\u001b[38;5;241;43m224\u001b[39;49m\u001b[43m)\u001b[49m\u001b[43m,\u001b[49m\u001b[43m \u001b[49m\u001b[43mimage_mode\u001b[49m\u001b[38;5;241;43m=\u001b[39;49m\u001b[38;5;124;43m'\u001b[39;49m\u001b[38;5;124;43mRGB\u001b[39;49m\u001b[38;5;124;43m'\u001b[39;49m\u001b[43m)\u001b[49m,\n\u001b[0;32m     49\u001b[0m     outputs\u001b[38;5;241m=\u001b[39m[gr\u001b[38;5;241m.\u001b[39mTextbox(label\u001b[38;5;241m=\u001b[39m\u001b[38;5;124m\"\u001b[39m\u001b[38;5;124mPredicted Class\u001b[39m\u001b[38;5;124m\"\u001b[39m), gr\u001b[38;5;241m.\u001b[39mTextbox(label\u001b[38;5;241m=\u001b[39m\u001b[38;5;124m\"\u001b[39m\u001b[38;5;124mConfidence Score\u001b[39m\u001b[38;5;124m\"\u001b[39m)],\n\u001b[0;32m     50\u001b[0m     live\u001b[38;5;241m=\u001b[39m\u001b[38;5;28;01mTrue\u001b[39;00m,\n\u001b[0;32m     51\u001b[0m     allow_flagging\u001b[38;5;241m=\u001b[39m\u001b[38;5;124m\"\u001b[39m\u001b[38;5;124mnever\u001b[39m\u001b[38;5;124m\"\u001b[39m,\n\u001b[0;32m     52\u001b[0m     theme\u001b[38;5;241m=\u001b[39m\u001b[38;5;124m'\u001b[39m\u001b[38;5;124mAjaxon6255/Emerald_Isle\u001b[39m\u001b[38;5;124m'\u001b[39m\n\u001b[0;32m     53\u001b[0m )\n\u001b[0;32m     54\u001b[0m iface\u001b[38;5;241m.\u001b[39mlaunch()\n",
      "File \u001b[1;32mc:\\Users\\Tejas\\AppData\\Local\\Programs\\Python\\Python311\\Lib\\site-packages\\gradio\\component_meta.py:155\u001b[0m, in \u001b[0;36mupdateable.<locals>.wrapper\u001b[1;34m(*args, **kwargs)\u001b[0m\n\u001b[0;32m    153\u001b[0m     \u001b[38;5;28;01mreturn\u001b[39;00m \u001b[38;5;28;01mNone\u001b[39;00m\n\u001b[0;32m    154\u001b[0m \u001b[38;5;28;01melse\u001b[39;00m:\n\u001b[1;32m--> 155\u001b[0m     \u001b[38;5;28;01mreturn\u001b[39;00m \u001b[43mfn\u001b[49m\u001b[43m(\u001b[49m\u001b[38;5;28;43mself\u001b[39;49m\u001b[43m,\u001b[49m\u001b[43m \u001b[49m\u001b[38;5;241;43m*\u001b[39;49m\u001b[38;5;241;43m*\u001b[39;49m\u001b[43mkwargs\u001b[49m\u001b[43m)\u001b[49m\n",
      "\u001b[1;31mTypeError\u001b[0m: Image.__init__() got an unexpected keyword argument 'shape'"
     ]
    }
   ],
   "source": [
    "import tensorflow as tf\n",
    "from tensorflow.keras.preprocessing import image\n",
    "import numpy as np\n",
    "import gradio as gr\n",
    "\n",
    "class_labels = ['NORMAL', 'PNEUMONIA']  # use the classes_labels.txt for reference\n",
    "\n",
    "\n",
    "# Function to preprocess the image for Gradio\n",
    "def preprocess_image(image):\n",
    "    img_array = image / 255.0  # Rescale the pixel values\n",
    "    img_array = np.expand_dims(img_array, axis=0)\n",
    "    return img_array\n",
    "\n",
    "# Function to make predictions for Gradio\n",
    "def predict_pneumonia(img):\n",
    "    loaded_model = tf.keras.models.load_model(r\"C:\\Users\\Tejas\\OneDrive\\Desktop\\T_work\\1. Projects\\xception.h5\")\n",
    "\n",
    "    img_array = preprocess_image(img)\n",
    "    predictions = loaded_model.predict(img_array)\n",
    "    predicted_class_index = np.argmax(predictions)\n",
    "    predicted_class = class_labels[predicted_class_index]\n",
    "    confidence_score = predictions[0][predicted_class_index]\n",
    "\n",
    "\n",
    "    # img = image.load_img(img, target_size=(224, 224))\n",
    "    # img = image.img_to_array(img)\n",
    "    # img = np.expand_dims(img, axis=0)\n",
    "    # img = img / 255.0  # Rescale the pixel values\n",
    "\n",
    "    # # Make predictions\n",
    "    # predictions = loaded_model.predict(img)\n",
    "\n",
    "    # # Get the predicted class label\n",
    "    # predicted_class_index = np.argmax(predictions)\n",
    "    # predicted_class = class_labels[predicted_class_index]\n",
    "    # confidence_score = predictions[0][predicted_class_index]\n",
    "    # confidence_score = predictions[0]\n",
    "\n",
    "\n",
    "    return predicted_class, confidence_score\n",
    "\n",
    "# gr.Image(shape=(224, 224))\n",
    "# Create the Gradio interface\n",
    "iface = gr.Interface(\n",
    "    title=\"PneumoAI\",\n",
    "    fn=predict_pneumonia,\n",
    "    inputs=gr.Image(shape=(224, 224), image_mode='RGB'),\n",
    "    outputs=[gr.Textbox(label=\"Predicted Class\"), gr.Textbox(label=\"Confidence Score\")],\n",
    "    live=True,\n",
    "    allow_flagging=\"never\",\n",
    "    theme='Ajaxon6255/Emerald_Isle'\n",
    ")\n",
    "iface.launch()\n",
    "\n"
   ]
  },
  {
   "cell_type": "code",
   "execution_count": 1,
   "metadata": {},
   "outputs": [
    {
     "ename": "ModuleNotFoundError",
     "evalue": "No module named 'gradio'",
     "output_type": "error",
     "traceback": [
      "\u001b[1;31m---------------------------------------------------------------------------\u001b[0m",
      "\u001b[1;31mModuleNotFoundError\u001b[0m                       Traceback (most recent call last)",
      "Input \u001b[1;32mIn [1]\u001b[0m, in \u001b[0;36m<cell line: 3>\u001b[1;34m()\u001b[0m\n\u001b[0;32m      1\u001b[0m \u001b[38;5;28;01mimport\u001b[39;00m \u001b[38;5;21;01mnumpy\u001b[39;00m \u001b[38;5;28;01mas\u001b[39;00m \u001b[38;5;21;01mnp\u001b[39;00m\n\u001b[0;32m      2\u001b[0m \u001b[38;5;28;01mfrom\u001b[39;00m \u001b[38;5;21;01mkeras\u001b[39;00m\u001b[38;5;21;01m.\u001b[39;00m\u001b[38;5;21;01mpreprocessing\u001b[39;00m \u001b[38;5;28;01mimport\u001b[39;00m image \u001b[38;5;28;01mas\u001b[39;00m keras_image\n\u001b[1;32m----> 3\u001b[0m \u001b[38;5;28;01mimport\u001b[39;00m \u001b[38;5;21;01mgradio\u001b[39;00m \u001b[38;5;28;01mas\u001b[39;00m \u001b[38;5;21;01mgr\u001b[39;00m\n\u001b[0;32m      4\u001b[0m \u001b[38;5;28;01mfrom\u001b[39;00m \u001b[38;5;21;01mkeras\u001b[39;00m\u001b[38;5;21;01m.\u001b[39;00m\u001b[38;5;21;01mmodels\u001b[39;00m \u001b[38;5;28;01mimport\u001b[39;00m load_model\n\u001b[0;32m      6\u001b[0m \u001b[38;5;66;03m# Load the pre-trained CNN model\u001b[39;00m\n",
      "\u001b[1;31mModuleNotFoundError\u001b[0m: No module named 'gradio'"
     ]
    }
   ],
   "source": [
    "!pip install gradio\n",
    "\n",
    "import numpy as np\n",
    "from keras.preprocessing import image as keras_image\n",
    "import gradio as gr\n",
    "from keras.models import load_model\n",
    "\n",
    "# Load the pre-trained CNN model\n",
    "model = load_model(r\"C:\\Users\\Tejas\\OneDrive\\Desktop\\T_work\\1. Projects\\xception.h5\")  # Load your trained model here\n",
    "\n",
    "# Define the class names for your flower classes\n",
    "class_names = ['NORMAL', 'PNEUMONIA']\n",
    "\n",
    "def predict_flower(image):\n",
    "    # Preprocess the input image\n",
    "    img = keras_image.img_to_array(image)\n",
    "    img = np.expand_dims(img, axis=0)\n",
    "    img = img / 255.0  # Normalize pixel values between 0 and 1\n",
    "\n",
    "    # Make predictions using the loaded model\n",
    "    predictions = model.predict(img)[0]\n",
    "    \n",
    "    # Create a dictionary mapping class names to predicted probabilities\n",
    "    result = {class_names[i]: float(predictions[i]) for i in range(len(class_names))}\n",
    "    return result\n",
    "\n",
    "# Define Gradio interface with a title\n",
    "image_input = gr.inputs.Image(shape=(71, 71))  # Adjust shape based on your model's input size\n",
    "label_output = gr.outputs.Label(num_top_classes=5)\n",
    "\n",
    "footer = {\n",
    "    \"text\": \"<div style='text-align: center; font-weight: bold;'>Our AI-powered flower classification model uses deep learning to recognize flower species. \"\n",
    "            \"It provides not only the names but also interesting details about the flowers, enhancing your botanical knowledge. \"\n",
    "            \"Whether it's the delicate elegance of a lily, the serene beauty of a lotus, the exotic charm of an orchid, \"\n",
    "            \"the vibrant hues of a sunflower, or the timeless allure of a tulip, our tool provides a holistic experience, transforming your interactions with flowers into an educational adventure.</div>\"\n",
    "}\n",
    "\n",
    "gr.Interface(\n",
    "    fn=predict_flower,\n",
    "    inputs=image_input,\n",
    "    outputs=label_output,\n",
    "    title=\"<div style='font-size: 45px; font-weight: bold; font-family: Arial Black;'>Flower Classification using CNN</div>\",  # Set the title for the interface with styles\n",
    "    description=\"<div style='text-align:center; font-size:20px;'><strong>Discover Nature with AI:</strong> Explore the world of flowers with our CNN-powered classification model. Upload a photo and unveil the secrets of lily, lotus, orchids, sunflowers, and tulips.</div>\",\n",
    "    article=footer[\"text\"],  # Pass the dictionary value as a string\n",
    ").launch(share=True)"
   ]
  },
  {
   "cell_type": "code",
   "execution_count": null,
   "metadata": {},
   "outputs": [],
   "source": []
  }
 ],
 "metadata": {
  "colab": {
   "provenance": []
  },
  "kernelspec": {
   "display_name": "Python 3 (ipykernel)",
   "language": "python",
   "name": "python3"
  },
  "language_info": {
   "codemirror_mode": {
    "name": "ipython",
    "version": 3
   },
   "file_extension": ".py",
   "mimetype": "text/x-python",
   "name": "python",
   "nbconvert_exporter": "python",
   "pygments_lexer": "ipython3",
   "version": "3.9.12"
  }
 },
 "nbformat": 4,
 "nbformat_minor": 1
}
